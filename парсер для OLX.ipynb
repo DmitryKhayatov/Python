{
 "cells": [
  {
   "cell_type": "code",
   "execution_count": 1,
   "id": "4263b318-468d-44e1-95eb-27850a65dcd8",
   "metadata": {},
   "outputs": [
    {
     "ename": "IndentationError",
     "evalue": "unexpected indent (3320361088.py, line 28)",
     "output_type": "error",
     "traceback": [
      "\u001b[1;36m  Cell \u001b[1;32mIn[1], line 28\u001b[1;36m\u001b[0m\n\u001b[1;33m    html = get_html(URL)\u001b[0m\n\u001b[1;37m    ^\u001b[0m\n\u001b[1;31mIndentationError\u001b[0m\u001b[1;31m:\u001b[0m unexpected indent\n"
     ]
    }
   ],
   "source": [
    "import requests\n",
    "from bs4 import BeautifulSoup as bs\n",
    "\n",
    "HOST = 'https://www.olx.co.id/'\n",
    "URL = 'https://www.olx.co.id/items/q-sepeda?filter=platform_eq_web-desktop%2Cquery_eq_sepeda%2CrelaxedFilters_eq_true%2Cspellcheck_eq_true&facet_limit=100&location_facet_limit=20&sorting=desc-creation&user=18da2c135a2x7a27e9fd'\n",
    "HEADERS = {'Accept': 'text/html,application/xhtml+xml,application/xml;q=0.9,image/avif,image/webp,image/apng,*/*;q=0.8,application/signed-exchange;v=b3;q=0.7',\n",
    "           'User-Agent': 'Mozilla/5.0 (Windows NT 10.0; Win64; x64) AppleWebKit/537.36 (KHTML, like Gecko) Chrome/121.0.0.0 Safari/537.36'}\n",
    "\n",
    "def get_html(url, params=''):\n",
    "    r = requests.get(url, headers=HEADERS, params=params)\n",
    "    return r.text\n",
    "\n",
    "def def_content(html):\n",
    "    soup = bs(html, 'html.parser')\n",
    "    items = soup.find_all('div', class_='bl-flex-item mb-8')\n",
    "    cards = []\n",
    "    return items  # Add a return statement to get the items outside the function\n",
    "\n",
    "#for item in items:\n",
    "cards.append\n",
    "(\n",
    "    {\n",
    "    'title_':item.find('div', 'title')     \n",
    "    \n",
    "    }\n",
    ")\n",
    "\n",
    "        html = get_html(URL)\n",
    "        items = def_content(html)\n",
    "        text_items = def_content(html)\n",
    "        print(item)\n"
   ]
  },
  {
   "cell_type": "code",
   "execution_count": null,
   "id": "beb5d252-d46d-46fe-b47c-568432a0406b",
   "metadata": {},
   "outputs": [],
   "source": []
  }
 ],
 "metadata": {
  "kernelspec": {
   "display_name": "Python 3 (ipykernel)",
   "language": "python",
   "name": "python3"
  },
  "language_info": {
   "codemirror_mode": {
    "name": "ipython",
    "version": 3
   },
   "file_extension": ".py",
   "mimetype": "text/x-python",
   "name": "python",
   "nbconvert_exporter": "python",
   "pygments_lexer": "ipython3",
   "version": "3.11.5"
  }
 },
 "nbformat": 4,
 "nbformat_minor": 5
}
