{
 "cells": [
  {
   "cell_type": "code",
   "execution_count": 5,
   "id": "0775671f-1be2-440a-bced-5c20db552f2c",
   "metadata": {},
   "outputs": [
    {
     "name": "stdout",
     "output_type": "stream",
     "text": [
      "[]\n"
     ]
    }
   ],
   "source": [
    "import requests\n",
    "from bs4 import BeautifulSoup as bs\n",
    "\n",
    "HOST = 'https://www.olx.co.id/'\n",
    "URL = ('https://www.olx.co.id/items/q-sepeda?filter=platform_eq_web-desktop%2Cquery_eq_sepeda%2CrelaxedFilters_eq_true'\n",
    "       '%2Spellcheck_eq_true&facet_limit=100&location_facet_limit=20&sorting=desc-creation&user=18da2c135a2x7a27e9fd')\n",
    "HEADERS = {\n",
    "    'Accept': 'text/html,application/xhtml+xml,application/xml;q=0.9,image/avif,image/webp,image/apng,*/*;q=0.8,'\n",
    "              'application/signed-exchange;v=b3;q=0.7',\n",
    "    'User-Agent': 'Mozilla/5.0 (Windows NT 10.0; Win64; x64) AppleWebKit/537.36 (KHTML, like Gecko) Chrome/121.0.0.0 '\n",
    "                  'Safari/537.36'}\n",
    "\n",
    "\n",
    "def get_html(url, params=''):\n",
    "    r = requests.get(url, headers=HEADERS, params=params)\n",
    "    return r.text  # Use r.text to get the HTML content\n",
    "\n",
    "def get_content(html):\n",
    "    soup = bs(html, 'html.parser')\n",
    "    elements = soup.find_all('li', class_='_1DNjI')  # Fix the variable name to elements\n",
    "    cards = []\n",
    "\n",
    "    for element in elements:\n",
    "        item_title = element.find('span', class_='itemTitle')\n",
    "        if item_title:\n",
    "            cards.append(\n",
    "                {\n",
    "                    'name': item_title.get_text()\n",
    "                }\n",
    "            )\n",
    "\n",
    "    return cards  # Return the list of cards\n",
    "\n",
    "html = get_html(URL)\n",
    "cards = get_content(html)\n",
    "print(cards)\n"
   ]
  },
  {
   "cell_type": "code",
   "execution_count": null,
   "id": "721762d1-bb6c-42be-bde7-734533a9c7fa",
   "metadata": {},
   "outputs": [],
   "source": []
  }
 ],
 "metadata": {
  "kernelspec": {
   "display_name": "Python 3 (ipykernel)",
   "language": "python",
   "name": "python3"
  },
  "language_info": {
   "codemirror_mode": {
    "name": "ipython",
    "version": 3
   },
   "file_extension": ".py",
   "mimetype": "text/x-python",
   "name": "python",
   "nbconvert_exporter": "python",
   "pygments_lexer": "ipython3",
   "version": "3.11.5"
  }
 },
 "nbformat": 4,
 "nbformat_minor": 5
}
